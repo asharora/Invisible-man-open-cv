{
 "cells": [
  {
   "cell_type": "code",
   "execution_count": 1,
   "metadata": {},
   "outputs": [],
   "source": [
    "import cv2\n",
    "import numpy as np\n",
    "import time"
   ]
  },
  {
   "cell_type": "code",
   "execution_count": 2,
   "metadata": {},
   "outputs": [],
   "source": [
    "cap=cv2.VideoCapture(\"harry_potter.mp4\")\n",
    "background=None\n",
    "for i in range(60):\n",
    "    ret,background=cap.read()\n",
    "background = cv2.rotate(background,2)\n",
    "#print(background)    \n",
    "while True:\n",
    "    ret,frame=cap.read()\n",
    "    \n",
    "    frame=cv2.rotate(frame,2)\n",
    "    hsv = cv2.cvtColor(frame, cv2.COLOR_BGR2HSV)  \n",
    "  \n",
    "    lower_red = np.array([100, 40, 40])        \n",
    "    upper_red = np.array([100, 255, 255]) \n",
    "    mask1 = cv2.inRange(hsv, lower_red, upper_red) \n",
    "    lower_red = np.array([155, 40, 40]) \n",
    "    upper_red = np.array([180, 255, 255]) \n",
    "    mask2 = cv2.inRange(hsv, lower_red, upper_red) \n",
    "    \n",
    "    mask1=mask1+mask2\n",
    "    mask1=cv2.morphologyEx(mask1,cv2.MORPH_OPEN,np.ones((3,3),np.uint8),iterations=2)\n",
    "    mask1=cv2.dilate(mask1,np.ones((3,3),np.uint8),iterations=1)\n",
    "    mask2=cv2.bitwise_not(mask1)\n",
    "    \n",
    "    res1=cv2.bitwise_and(background, background, mask = mask1) \n",
    "    res2 = cv2.bitwise_and(frame, frame, mask = mask2) \n",
    "    final_output = cv2.addWeighted(res1, 1, res2, 1, 0) \n",
    "    cv2.imshow(\"frame\",final_output)\n",
    "    k = cv2.waitKey(10) \n",
    "    if k == 27: \n",
    "        break\n",
    "        \n",
    "cap.release()\n",
    "cv2.destroyAllWindows()"
   ]
  },
  {
   "cell_type": "code",
   "execution_count": null,
   "metadata": {},
   "outputs": [],
   "source": []
  },
  {
   "cell_type": "code",
   "execution_count": null,
   "metadata": {},
   "outputs": [],
   "source": []
  }
 ],
 "metadata": {
  "kernelspec": {
   "display_name": "Python 3",
   "language": "python",
   "name": "python3"
  },
  "language_info": {
   "codemirror_mode": {
    "name": "ipython",
    "version": 3
   },
   "file_extension": ".py",
   "mimetype": "text/x-python",
   "name": "python",
   "nbconvert_exporter": "python",
   "pygments_lexer": "ipython3",
   "version": "3.7.7"
  }
 },
 "nbformat": 4,
 "nbformat_minor": 4
}
